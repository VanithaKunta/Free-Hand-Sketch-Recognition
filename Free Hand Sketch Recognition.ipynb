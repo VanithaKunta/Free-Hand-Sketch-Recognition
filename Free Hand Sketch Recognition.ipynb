{
  "cells": [
    {
      "cell_type": "code",
      "execution_count": 1,
      "metadata": {
        "colab": {
          "base_uri": "https://localhost:8080/"
        },
        "id": "lkJYqGMjkFrR",
        "outputId": "0a739b0f-1b8b-414e-8fac-52af8646ae56"
      },
      "outputs": [
        {
          "output_type": "stream",
          "name": "stdout",
          "text": [
            "Mounted at /content/drive\n"
          ]
        }
      ],
      "source": [
        "from google.colab import drive\n",
        "drive.mount('/content/drive')"
      ]
    },
    {
      "cell_type": "code",
      "execution_count": null,
      "metadata": {
        "colab": {
          "base_uri": "https://localhost:8080/"
        },
        "id": "mBqe6DXMkLXG",
        "outputId": "e52bc889-03f2-463a-fc32-5ad641d9321d"
      },
      "outputs": [
        {
          "name": "stdout",
          "output_type": "stream",
          "text": [
            "warning [/content/drive/MyDrive/data.zip]:  76 extra bytes at beginning or within zipfile\n",
            "  (attempting to process anyway)\n",
            "error [/content/drive/MyDrive/data.zip]:  reported length of central directory is\n",
            "  -76 bytes too long (Atari STZip zipfile?  J.H.Holm ZIPSPLIT 1.1\n",
            "  zipfile?).  Compensating...\n"
          ]
        }
      ],
      "source": [
        "# Unzip dataset\n",
        "!unzip -uq \"/content/drive/MyDrive/data.zip\" -d \"/content/drive/MyDrive/Dataset\""
      ]
    },
    {
      "cell_type": "markdown",
      "metadata": {
        "id": "WiKIea3gwOBB"
      },
      "source": [
        "#### PyDrive is a high-level Python wrapper for the Google Drive API. It allows you to easily upload, download, and delete files in your Google Drive from a Python script."
      ]
    },
    {
      "cell_type": "code",
      "execution_count": null,
      "metadata": {
        "id": "30KjrpjdlFGj"
      },
      "outputs": [],
      "source": [
        "# Import PyDrive and associated libraries.\n",
        "!pip install -U -q PyDrive\n",
        "from pydrive.auth import GoogleAuth\n",
        "from pydrive.drive import GoogleDrive\n",
        "from google.colab import auth\n",
        "from oauth2client.client import GoogleCredentials\n",
        "\n",
        "# Authenticate and create the PyDrive client.\n",
        "auth.authenticate_user()\n",
        "gauth = GoogleAuth()\n",
        "gauth.credentials = GoogleCredentials.get_application_default()\n",
        "drive = GoogleDrive(gauth)\n",
        "\n",
        "mimetypes = {\n",
        "    'application/vnd.google-apps.document': 'application/vnd.openxmlformats-officedocument.wordprocessingml.document',\n",
        "    'application/vnd.google-apps.spreadsheet': 'application/vnd.openxmlformats-officedocument.spreadsheetml.sheet'\n",
        "}\n",
        "\n",
        "# Download dataset based on its file ID\n",
        "file_id = '1i9FCxrHy2GhhiO2f5e2yvSCw-pn8iwyA'\n",
        "downloaded = drive.CreateFile({'id': file_id})\n",
        "\n",
        "\n",
        "if downloaded['mimeType'] in mimetypes:\n",
        "  download_mimetype = mimetypes[downloaded['mimeType']]\n",
        "  downloaded.GetContentFile(downloaded['title'], mimetype=download_mimetype)"
      ]
    },
    {
      "cell_type": "code",
      "execution_count": null,
      "metadata": {
        "id": "ERfLkHg8uXcK",
        "colab": {
          "base_uri": "https://localhost:8080/"
        },
        "outputId": "e21188b7-32c4-4ec0-9833-e835630fa2da"
      },
      "outputs": [
        {
          "output_type": "stream",
          "name": "stdout",
          "text": [
            "153610\n"
          ]
        }
      ],
      "source": [
        "# Access dataset from drive\n",
        "import os\n",
        "import glob\n",
        "import numpy as np\n",
        "from keras.preprocessing import image\n",
        "from keras.applications.imagenet_utils import preprocess_input\n",
        "  \n",
        "img_list = glob.glob('/content/drive/MyDrive/Data/*/*')\n",
        "print(len(img_list))"
      ]
    },
    {
      "cell_type": "code",
      "execution_count": null,
      "metadata": {
        "colab": {
          "base_uri": "https://localhost:8080/"
        },
        "id": "I30pZGDrx89N",
        "outputId": "6c4f0eb1-9d9b-41ad-d82f-d13cedca76b0"
      },
      "outputs": [
        {
          "output_type": "stream",
          "name": "stdout",
          "text": [
            "['lion', 'snake', 'cell phone', 'keyboard', 'carrot', 'wineglass', 'elephant', 'door', 'cake', 'knife', 'pineapple', 'squirrel', 'horse', 'sea turtle', 'cow', 'tomato', 'toothbrush', 'microscope', 'fish', 'traffic light', 'frog', 'tire', 'laptop', 'backpack', 'hamburger', 'purse', 'arm', 'ship', 'bicycle', 'pizza', 'axe', 'socks', 'fan', 'octopus', 'banana', 'lightbulb', 'rabbit', 'rooster', 'head-phones', 'scissors', 'flashlight', 'hat', 'brain', 'spoon', 'bell', 'eyeglasses', 'bread', 'monkey', 'spider', 'house', 'kangaroo', 'book', 'mouse (animal)', 'trousers', 'satellite', 'skateboard', 'mug', 'cloud', 'train', 'umbrella', 'bird', 'crane (machine)', 'grapes', 'table', 'frying-pan', 'santa claus', 'parachute', 'parrot', 'airplane', 'skyscraper', 'bowl', 'envelope', 'truck', 't-shirt', 'pen', 'ice-cream-cone', 'telephone', 'ear', 'bear (animal)', 'teddy-bear', 'wine-bottle', 'wrist-watch', 'vase', 'mouth', 'comb', 'loudspeaker', 'snowboard', 'key', 'motorbike', 'tv', 'chair', 'van', 'nose', 'ladder', 'helicopter', 'crocodile', 'streetlight', 'guitar', 'space shuttle', 'bus', 'tiger', 'camel', 'panda', 'camera', 'moon', 'cabinet', 'trumpet', 'zebra', 'owl', 'duck', 'penguin', 'teacup', 'candle', 'giraffe', 'bridge', 'dolphin', 'scorpion', 'alarm clock', 'flying bird', 'flower with stem', 'calculator', 'rifle', 'face', 'cup', 'dog', 'microphone', 'hourglass', 'rollerblades', 'angel', 'radio', 'person walking', 'tractor', 'screwdriver', 'pumpkin', 'bed', 'eye', 'crab', 'car', 'pig', 'snail', 'cactus', 'strawberry', 'basket', 'hand', 'piano', 'sun', 'bench', 'human-skeleton', 'pear', 'fork', 'crown', 'diamond', 'leaf', 'apple', 'helmet', 'tree', 'present', 'butterfly', 'boomerang', 'cat']\n"
          ]
        }
      ],
      "source": [
        "# List the directories of dataset\n",
        "import os \n",
        "path = '/content/drive/MyDrive/Data'\n",
        "print(os.listdir(path))"
      ]
    },
    {
      "cell_type": "code",
      "source": [
        "# Access only the apple and banana images of dataset \n",
        "\n",
        "import numpy as np\n",
        "from keras.preprocessing import image\n",
        "from keras.applications.imagenet_utils import preprocess_input\n",
        "\n",
        "img_data_list=[]\n",
        "for dir in (os.listdir(path)):\n",
        "  if dir in ['apple', 'banana']:\n",
        "    images = os.listdir(os.path.join(path,dir))\n",
        "    for imge in images:\n",
        "      img_path = path+'/'+dir+'/'+imge\n",
        "      img = image.load_img(img_path, target_size=(224, 224))\n",
        "      x = image.img_to_array(img)\n",
        "      x = np.expand_dims(x, axis=0)\n",
        "      x = preprocess_input(x)\n",
        "      img_data_list.append(x)\n",
        "\n",
        "print(len(img_data_list))"
      ],
      "metadata": {
        "colab": {
          "base_uri": "https://localhost:8080/"
        },
        "id": "3e6bh5iFV-pT",
        "outputId": "20c4d792-8d77-4c44-f7cb-d25683e65169"
      },
      "execution_count": null,
      "outputs": [
        {
          "output_type": "stream",
          "name": "stdout",
          "text": [
            "1920\n"
          ]
        }
      ]
    },
    {
      "cell_type": "code",
      "source": [
        "img_data = np.array(img_data_list)\n",
        "print (img_data.shape)\n",
        "img_data=np.rollaxis(img_data,1,0)\n",
        "print (img_data.shape)\n",
        "img_data=img_data[0]\n",
        "print (img_data.shape)"
      ],
      "metadata": {
        "colab": {
          "base_uri": "https://localhost:8080/"
        },
        "id": "LW_mkZmKViWe",
        "outputId": "7a63e93c-0830-47b9-d009-0ca24a23022f"
      },
      "execution_count": null,
      "outputs": [
        {
          "output_type": "stream",
          "name": "stdout",
          "text": [
            "(1920, 1, 224, 224, 3)\n",
            "(1, 1920, 224, 224, 3)\n",
            "(1920, 224, 224, 3)\n"
          ]
        }
      ]
    },
    {
      "cell_type": "code",
      "source": [
        "# Define number of classes\n",
        "\n",
        "from keras.utils import np_utils\n",
        "from sklearn.utils import shuffle\n",
        "from sklearn.model_selection import train_test_split\n",
        "\n",
        "num_classes = 2\n",
        "num_of_samples = img_data.shape[0]\n",
        "labels = np.ones((num_of_samples,),dtype='int64')\n",
        "\n",
        "labels[0:960]=0\n",
        "labels[960:]=1\n",
        "names = ['banana','apple']\n",
        "\n",
        "# convert class labels to one-hot encoding\n",
        "Y = np_utils.to_categorical(labels, num_classes)\n",
        "\n",
        "#Shuffle the dataset\n",
        "x,y = shuffle(img_data,Y, random_state=2)\n",
        "\n",
        "# Split the dataset\n",
        "X_train, X_test, y_train, y_test = train_test_split(x, y, test_size=0.2, random_state=2)\n",
        "print(X_train.shape)\n",
        "print(y_train.shape)"
      ],
      "metadata": {
        "colab": {
          "base_uri": "https://localhost:8080/"
        },
        "id": "7elbfcQ6XdVa",
        "outputId": "7965dc64-6a8f-493e-d929-2434a8bde522"
      },
      "execution_count": null,
      "outputs": [
        {
          "output_type": "stream",
          "name": "stdout",
          "text": [
            "(1536, 224, 224, 3)\n",
            "(1536, 2)\n"
          ]
        }
      ]
    },
    {
      "cell_type": "code",
      "source": [
        "print(X_test.shape)"
      ],
      "metadata": {
        "colab": {
          "base_uri": "https://localhost:8080/"
        },
        "id": "XJeVs0o4iLJY",
        "outputId": "9d404afc-c46d-4744-9f1f-70b28024460f"
      },
      "execution_count": null,
      "outputs": [
        {
          "output_type": "stream",
          "name": "stdout",
          "text": [
            "(384, 224, 224, 3)\n"
          ]
        }
      ]
    },
    {
      "cell_type": "markdown",
      "source": [
        "**Transfer learning for classifier alone**"
      ],
      "metadata": {
        "id": "LBSsFj6HU4yT"
      }
    },
    {
      "cell_type": "code",
      "source": [
        "# Train model in batches of dataset\n",
        "import os\n",
        "import time\n",
        "import sklearn\n",
        "import numpy as np\n",
        "from keras.preprocessing import image\n",
        "from keras.applications.imagenet_utils import preprocess_input\n",
        "from keras.applications.vgg16 import VGG16\n",
        "from keras.layers import Dense, Activation, Flatten\n",
        "from keras.layers import merge, Input\n",
        "from keras.models import Model\n",
        "from keras.utils import np_utils\n",
        "from sklearn.utils import shuffle\n",
        "from sklearn.model_selection import train_test_split\n",
        "import matplotlib.pyplot as plt\n",
        "import time\n",
        "\n",
        "\n",
        "image_input = Input(shape=(224, 224, 3))\n",
        "\n",
        "model = VGG16(input_tensor = image_input, include_top = True, weights = 'imagenet')\n",
        "model.summary()\n",
        "\n",
        "last_layer = model.get_layer('fc2').output\n",
        "out = Dense(num_classes, activation='softmax', name='output')(last_layer)\n",
        "custom_vgg_model2 = Model(image_input, out)\n",
        "custom_vgg_model2.summary()\n",
        "\n",
        "# Train classifier and freeze other layers\n",
        "\n",
        "for layer in custom_vgg_model2.layers[:-1]:\n",
        "\tlayer.trainable = False\n",
        "custom_vgg_model2.summary()\n",
        "\n",
        "custom_vgg_model2.compile(loss='categorical_crossentropy',optimizer='adadelta',metrics=['accuracy'])\n",
        "\n",
        "t=time.time()\n",
        "hist = custom_vgg_model2.fit(X_train, y_train, batch_size=32, epochs=12, verbose=1, validation_data=(X_test, y_test))\n",
        "print('Training time: %s' % (time.time() - t))\n",
        "(loss, accuracy) = custom_vgg_model2.evaluate(X_test, y_test, batch_size=10, verbose=1)\n",
        "\n",
        "# Save model to drive\n",
        "custom_vgg_model2.save('drive/MyDrive/custom_vgg_model2.hdf5')\n",
        "\n",
        "print(\"[INFO] loss={:.4f}, accuracy: {:.4f}%\".format(loss,accuracy * 100))\n",
        "\n"
      ],
      "metadata": {
        "id": "XZKOaE_2NvF_",
        "colab": {
          "base_uri": "https://localhost:8080/"
        },
        "outputId": "57ee5bfe-83f0-45bd-e4af-1942f9dcab04"
      },
      "execution_count": null,
      "outputs": [
        {
          "output_type": "stream",
          "name": "stdout",
          "text": [
            "Model: \"vgg16\"\n",
            "_________________________________________________________________\n",
            " Layer (type)                Output Shape              Param #   \n",
            "=================================================================\n",
            " input_2 (InputLayer)        [(None, 224, 224, 3)]     0         \n",
            "                                                                 \n",
            " block1_conv1 (Conv2D)       (None, 224, 224, 64)      1792      \n",
            "                                                                 \n",
            " block1_conv2 (Conv2D)       (None, 224, 224, 64)      36928     \n",
            "                                                                 \n",
            " block1_pool (MaxPooling2D)  (None, 112, 112, 64)      0         \n",
            "                                                                 \n",
            " block2_conv1 (Conv2D)       (None, 112, 112, 128)     73856     \n",
            "                                                                 \n",
            " block2_conv2 (Conv2D)       (None, 112, 112, 128)     147584    \n",
            "                                                                 \n",
            " block2_pool (MaxPooling2D)  (None, 56, 56, 128)       0         \n",
            "                                                                 \n",
            " block3_conv1 (Conv2D)       (None, 56, 56, 256)       295168    \n",
            "                                                                 \n",
            " block3_conv2 (Conv2D)       (None, 56, 56, 256)       590080    \n",
            "                                                                 \n",
            " block3_conv3 (Conv2D)       (None, 56, 56, 256)       590080    \n",
            "                                                                 \n",
            " block3_pool (MaxPooling2D)  (None, 28, 28, 256)       0         \n",
            "                                                                 \n",
            " block4_conv1 (Conv2D)       (None, 28, 28, 512)       1180160   \n",
            "                                                                 \n",
            " block4_conv2 (Conv2D)       (None, 28, 28, 512)       2359808   \n",
            "                                                                 \n",
            " block4_conv3 (Conv2D)       (None, 28, 28, 512)       2359808   \n",
            "                                                                 \n",
            " block4_pool (MaxPooling2D)  (None, 14, 14, 512)       0         \n",
            "                                                                 \n",
            " block5_conv1 (Conv2D)       (None, 14, 14, 512)       2359808   \n",
            "                                                                 \n",
            " block5_conv2 (Conv2D)       (None, 14, 14, 512)       2359808   \n",
            "                                                                 \n",
            " block5_conv3 (Conv2D)       (None, 14, 14, 512)       2359808   \n",
            "                                                                 \n",
            " block5_pool (MaxPooling2D)  (None, 7, 7, 512)         0         \n",
            "                                                                 \n",
            " flatten (Flatten)           (None, 25088)             0         \n",
            "                                                                 \n",
            " fc1 (Dense)                 (None, 4096)              102764544 \n",
            "                                                                 \n",
            " fc2 (Dense)                 (None, 4096)              16781312  \n",
            "                                                                 \n",
            " predictions (Dense)         (None, 1000)              4097000   \n",
            "                                                                 \n",
            "=================================================================\n",
            "Total params: 138,357,544\n",
            "Trainable params: 138,357,544\n",
            "Non-trainable params: 0\n",
            "_________________________________________________________________\n",
            "Model: \"model_1\"\n",
            "_________________________________________________________________\n",
            " Layer (type)                Output Shape              Param #   \n",
            "=================================================================\n",
            " input_2 (InputLayer)        [(None, 224, 224, 3)]     0         \n",
            "                                                                 \n",
            " block1_conv1 (Conv2D)       (None, 224, 224, 64)      1792      \n",
            "                                                                 \n",
            " block1_conv2 (Conv2D)       (None, 224, 224, 64)      36928     \n",
            "                                                                 \n",
            " block1_pool (MaxPooling2D)  (None, 112, 112, 64)      0         \n",
            "                                                                 \n",
            " block2_conv1 (Conv2D)       (None, 112, 112, 128)     73856     \n",
            "                                                                 \n",
            " block2_conv2 (Conv2D)       (None, 112, 112, 128)     147584    \n",
            "                                                                 \n",
            " block2_pool (MaxPooling2D)  (None, 56, 56, 128)       0         \n",
            "                                                                 \n",
            " block3_conv1 (Conv2D)       (None, 56, 56, 256)       295168    \n",
            "                                                                 \n",
            " block3_conv2 (Conv2D)       (None, 56, 56, 256)       590080    \n",
            "                                                                 \n",
            " block3_conv3 (Conv2D)       (None, 56, 56, 256)       590080    \n",
            "                                                                 \n",
            " block3_pool (MaxPooling2D)  (None, 28, 28, 256)       0         \n",
            "                                                                 \n",
            " block4_conv1 (Conv2D)       (None, 28, 28, 512)       1180160   \n",
            "                                                                 \n",
            " block4_conv2 (Conv2D)       (None, 28, 28, 512)       2359808   \n",
            "                                                                 \n",
            " block4_conv3 (Conv2D)       (None, 28, 28, 512)       2359808   \n",
            "                                                                 \n",
            " block4_pool (MaxPooling2D)  (None, 14, 14, 512)       0         \n",
            "                                                                 \n",
            " block5_conv1 (Conv2D)       (None, 14, 14, 512)       2359808   \n",
            "                                                                 \n",
            " block5_conv2 (Conv2D)       (None, 14, 14, 512)       2359808   \n",
            "                                                                 \n",
            " block5_conv3 (Conv2D)       (None, 14, 14, 512)       2359808   \n",
            "                                                                 \n",
            " block5_pool (MaxPooling2D)  (None, 7, 7, 512)         0         \n",
            "                                                                 \n",
            " flatten (Flatten)           (None, 25088)             0         \n",
            "                                                                 \n",
            " fc1 (Dense)                 (None, 4096)              102764544 \n",
            "                                                                 \n",
            " fc2 (Dense)                 (None, 4096)              16781312  \n",
            "                                                                 \n",
            " output (Dense)              (None, 2)                 8194      \n",
            "                                                                 \n",
            "=================================================================\n",
            "Total params: 134,268,738\n",
            "Trainable params: 134,268,738\n",
            "Non-trainable params: 0\n",
            "_________________________________________________________________\n",
            "Model: \"model_1\"\n",
            "_________________________________________________________________\n",
            " Layer (type)                Output Shape              Param #   \n",
            "=================================================================\n",
            " input_2 (InputLayer)        [(None, 224, 224, 3)]     0         \n",
            "                                                                 \n",
            " block1_conv1 (Conv2D)       (None, 224, 224, 64)      1792      \n",
            "                                                                 \n",
            " block1_conv2 (Conv2D)       (None, 224, 224, 64)      36928     \n",
            "                                                                 \n",
            " block1_pool (MaxPooling2D)  (None, 112, 112, 64)      0         \n",
            "                                                                 \n",
            " block2_conv1 (Conv2D)       (None, 112, 112, 128)     73856     \n",
            "                                                                 \n",
            " block2_conv2 (Conv2D)       (None, 112, 112, 128)     147584    \n",
            "                                                                 \n",
            " block2_pool (MaxPooling2D)  (None, 56, 56, 128)       0         \n",
            "                                                                 \n",
            " block3_conv1 (Conv2D)       (None, 56, 56, 256)       295168    \n",
            "                                                                 \n",
            " block3_conv2 (Conv2D)       (None, 56, 56, 256)       590080    \n",
            "                                                                 \n",
            " block3_conv3 (Conv2D)       (None, 56, 56, 256)       590080    \n",
            "                                                                 \n",
            " block3_pool (MaxPooling2D)  (None, 28, 28, 256)       0         \n",
            "                                                                 \n",
            " block4_conv1 (Conv2D)       (None, 28, 28, 512)       1180160   \n",
            "                                                                 \n",
            " block4_conv2 (Conv2D)       (None, 28, 28, 512)       2359808   \n",
            "                                                                 \n",
            " block4_conv3 (Conv2D)       (None, 28, 28, 512)       2359808   \n",
            "                                                                 \n",
            " block4_pool (MaxPooling2D)  (None, 14, 14, 512)       0         \n",
            "                                                                 \n",
            " block5_conv1 (Conv2D)       (None, 14, 14, 512)       2359808   \n",
            "                                                                 \n",
            " block5_conv2 (Conv2D)       (None, 14, 14, 512)       2359808   \n",
            "                                                                 \n",
            " block5_conv3 (Conv2D)       (None, 14, 14, 512)       2359808   \n",
            "                                                                 \n",
            " block5_pool (MaxPooling2D)  (None, 7, 7, 512)         0         \n",
            "                                                                 \n",
            " flatten (Flatten)           (None, 25088)             0         \n",
            "                                                                 \n",
            " fc1 (Dense)                 (None, 4096)              102764544 \n",
            "                                                                 \n",
            " fc2 (Dense)                 (None, 4096)              16781312  \n",
            "                                                                 \n",
            " output (Dense)              (None, 2)                 8194      \n",
            "                                                                 \n",
            "=================================================================\n",
            "Total params: 134,268,738\n",
            "Trainable params: 8,194\n",
            "Non-trainable params: 134,260,544\n",
            "_________________________________________________________________\n",
            "Epoch 1/12\n",
            "48/48 [==============================] - 19s 385ms/step - loss: 0.7793 - accuracy: 0.5820 - val_loss: 0.7421 - val_accuracy: 0.5964\n",
            "Epoch 2/12\n",
            "48/48 [==============================] - 18s 376ms/step - loss: 0.7277 - accuracy: 0.5990 - val_loss: 0.6945 - val_accuracy: 0.6172\n",
            "Epoch 3/12\n",
            "48/48 [==============================] - 20s 410ms/step - loss: 0.6877 - accuracy: 0.6211 - val_loss: 0.6570 - val_accuracy: 0.6432\n",
            "Epoch 4/12\n",
            "48/48 [==============================] - 20s 410ms/step - loss: 0.6554 - accuracy: 0.6432 - val_loss: 0.6264 - val_accuracy: 0.6484\n",
            "Epoch 5/12\n",
            "48/48 [==============================] - 18s 376ms/step - loss: 0.6283 - accuracy: 0.6660 - val_loss: 0.6005 - val_accuracy: 0.6719\n",
            "Epoch 6/12\n",
            "48/48 [==============================] - 20s 410ms/step - loss: 0.6044 - accuracy: 0.6816 - val_loss: 0.5775 - val_accuracy: 0.7031\n",
            "Epoch 7/12\n",
            "48/48 [==============================] - 19s 408ms/step - loss: 0.5828 - accuracy: 0.6986 - val_loss: 0.5567 - val_accuracy: 0.7135\n",
            "Epoch 8/12\n",
            "48/48 [==============================] - 20s 409ms/step - loss: 0.5630 - accuracy: 0.7168 - val_loss: 0.5378 - val_accuracy: 0.7266\n",
            "Epoch 9/12\n",
            "48/48 [==============================] - 18s 375ms/step - loss: 0.5445 - accuracy: 0.7285 - val_loss: 0.5200 - val_accuracy: 0.7370\n",
            "Epoch 10/12\n",
            "48/48 [==============================] - 18s 375ms/step - loss: 0.5271 - accuracy: 0.7487 - val_loss: 0.5034 - val_accuracy: 0.7500\n",
            "Epoch 11/12\n",
            "48/48 [==============================] - 18s 376ms/step - loss: 0.5106 - accuracy: 0.7591 - val_loss: 0.4876 - val_accuracy: 0.7578\n",
            "Epoch 12/12\n",
            "48/48 [==============================] - 18s 374ms/step - loss: 0.4950 - accuracy: 0.7741 - val_loss: 0.4729 - val_accuracy: 0.7682\n",
            "Training time: 263.500369310379\n",
            "39/39 [==============================] - 6s 149ms/step - loss: 0.4729 - accuracy: 0.7682\n",
            "[INFO] loss=0.4729, accuracy: 76.8229%\n"
          ]
        }
      ]
    },
    {
      "cell_type": "code",
      "source": [
        "# plotting losses and accuracy\n",
        "\n",
        "train_loss=hist.history['loss']\n",
        "val_loss=hist.history['val_loss']\n",
        "train_acc=hist.history['accuracy']\n",
        "val_acc=hist.history['val_accuracy']\n",
        "xc=range(12)\n",
        "\n",
        "plt.figure(1,figsize=(7,5))\n",
        "plt.plot(xc,train_loss)\n",
        "plt.plot(xc,val_loss)\n",
        "plt.xlabel('num of Epochs')\n",
        "plt.ylabel('loss')\n",
        "plt.title('train_loss vs val_loss')\n",
        "plt.grid(True)\n",
        "plt.legend(['train','val'])\n",
        "plt.style.use(['classic'])\n",
        "\n",
        "plt.figure(2,figsize=(7,5))\n",
        "plt.plot(xc,train_acc)\n",
        "plt.plot(xc,val_acc)\n",
        "plt.xlabel('num of Epochs')\n",
        "plt.ylabel('accuracy')\n",
        "plt.title('train_acc vs val_accuracy')\n",
        "plt.grid(True)\n",
        "plt.legend(['train','val'],loc=4)\n",
        "plt.style.use(['classic'])"
      ],
      "metadata": {
        "colab": {
          "base_uri": "https://localhost:8080/",
          "height": 739
        },
        "id": "P2297ZmMhQF_",
        "outputId": "da71b8c9-d581-41a7-aaa9-f372632d023e"
      },
      "execution_count": null,
      "outputs": [
        {
          "output_type": "display_data",
          "data": {
            "text/plain": [
              "<Figure size 504x360 with 1 Axes>"
            ],
            "image/png": "[encoded data removed]"
          },
          "metadata": {
            "needs_background": "light"
          }
        },
        {
          "output_type": "display_data",
          "data": {
            "text/plain": [
              "<Figure size 560x400 with 1 Axes>"
            ],
            "image/png": "[encoded data removed]"
          },
          "metadata": {}
        }
      ]
    },
    {
      "cell_type": "code",
      "source": [
        "# Recreate the exact same model, including its weights and the optimizer\n",
        "import tensorflow as tf\n",
        "from tensorflow import keras\n",
        "from keras.models import Model\n",
        "new_model = tf.keras.models.load_model('drive/MyDrive/custom_vgg_model2.hdf5')\n",
        "\n",
        "# Show the model architecture\n",
        "new_model.summary()"
      ],
      "metadata": {
        "colab": {
          "base_uri": "https://localhost:8080/"
        },
        "id": "s-eWbGzolc_f",
        "outputId": "b50b28a8-86b6-4412-c2c9-ad2fd5187f4f"
      },
      "execution_count": 2,
      "outputs": [
        {
          "output_type": "stream",
          "name": "stdout",
          "text": [
            "Model: \"model_1\"\n",
            "_________________________________________________________________\n",
            " Layer (type)                Output Shape              Param #   \n",
            "=================================================================\n",
            " input_2 (InputLayer)        [(None, 224, 224, 3)]     0         \n",
            "                                                                 \n",
            " block1_conv1 (Conv2D)       (None, 224, 224, 64)      1792      \n",
            "                                                                 \n",
            " block1_conv2 (Conv2D)       (None, 224, 224, 64)      36928     \n",
            "                                                                 \n",
            " block1_pool (MaxPooling2D)  (None, 112, 112, 64)      0         \n",
            "                                                                 \n",
            " block2_conv1 (Conv2D)       (None, 112, 112, 128)     73856     \n",
            "                                                                 \n",
            " block2_conv2 (Conv2D)       (None, 112, 112, 128)     147584    \n",
            "                                                                 \n",
            " block2_pool (MaxPooling2D)  (None, 56, 56, 128)       0         \n",
            "                                                                 \n",
            " block3_conv1 (Conv2D)       (None, 56, 56, 256)       295168    \n",
            "                                                                 \n",
            " block3_conv2 (Conv2D)       (None, 56, 56, 256)       590080    \n",
            "                                                                 \n",
            " block3_conv3 (Conv2D)       (None, 56, 56, 256)       590080    \n",
            "                                                                 \n",
            " block3_pool (MaxPooling2D)  (None, 28, 28, 256)       0         \n",
            "                                                                 \n",
            " block4_conv1 (Conv2D)       (None, 28, 28, 512)       1180160   \n",
            "                                                                 \n",
            " block4_conv2 (Conv2D)       (None, 28, 28, 512)       2359808   \n",
            "                                                                 \n",
            " block4_conv3 (Conv2D)       (None, 28, 28, 512)       2359808   \n",
            "                                                                 \n",
            " block4_pool (MaxPooling2D)  (None, 14, 14, 512)       0         \n",
            "                                                                 \n",
            " block5_conv1 (Conv2D)       (None, 14, 14, 512)       2359808   \n",
            "                                                                 \n",
            " block5_conv2 (Conv2D)       (None, 14, 14, 512)       2359808   \n",
            "                                                                 \n",
            " block5_conv3 (Conv2D)       (None, 14, 14, 512)       2359808   \n",
            "                                                                 \n",
            " block5_pool (MaxPooling2D)  (None, 7, 7, 512)         0         \n",
            "                                                                 \n",
            " flatten (Flatten)           (None, 25088)             0         \n",
            "                                                                 \n",
            " fc1 (Dense)                 (None, 4096)              102764544 \n",
            "                                                                 \n",
            " fc2 (Dense)                 (None, 4096)              16781312  \n",
            "                                                                 \n",
            " output (Dense)              (None, 2)                 8194      \n",
            "                                                                 \n",
            "=================================================================\n",
            "Total params: 134,268,738\n",
            "Trainable params: 8,194\n",
            "Non-trainable params: 134,260,544\n",
            "_________________________________________________________________\n"
          ]
        }
      ]
    },
    {
      "cell_type": "code",
      "source": [
        "# Predict the test images\n",
        "predictions = new_model.predict(X_test[:10])\n",
        "\n",
        "# Print model predictions\n",
        "print(np.argmax(predictions, axis=1))"
      ],
      "metadata": {
        "colab": {
          "base_uri": "https://localhost:8080/"
        },
        "id": "MPaiRdNnhVMB",
        "outputId": "5a5a4038-067a-4724-9f47-8ce58dfb09c7"
      },
      "execution_count": null,
      "outputs": [
        {
          "output_type": "stream",
          "name": "stdout",
          "text": [
            "[0 0 0 0 0 0 1 1 0 1]\n"
          ]
        }
      ]
    },
    {
      "cell_type": "code",
      "source": [
        "# Print corresponding classes\n",
        "print(np.argmax(y_test[:10], axis=1))"
      ],
      "metadata": {
        "colab": {
          "base_uri": "https://localhost:8080/"
        },
        "id": "bIMqOfFtj8o8",
        "outputId": "5ba698e3-7608-4a50-ef0e-547ca91bef6f"
      },
      "execution_count": null,
      "outputs": [
        {
          "output_type": "stream",
          "name": "stdout",
          "text": [
            "[0 0 1 0 1 0 1 1 0 1]\n"
          ]
        }
      ]
    },
    {
      "cell_type": "code",
      "source": [
        "# Testing for new images \n",
        "import os\n",
        "import numpy as np\n",
        "from keras.preprocessing import image\n",
        "from keras.applications.imagenet_utils import preprocess_input\n",
        "\n",
        "testing_path = '/content/drive/MyDrive/Testing'\n",
        "\n",
        "images = os.listdir(testing_path)\n",
        "for imge in images:\n",
        "  img_path = testing_path+ '/' +imge\n",
        "  img = image.load_img(img_path, target_size=(224, 224))\n",
        "  x = image.img_to_array(img)\n",
        "  x = np.expand_dims(x, axis=0)\n",
        "  x = preprocess_input(x)\n",
        "  #print('Input image shape:', x.shape)\n",
        "\n",
        "  preds = new_model.predict(x)\n",
        "  print(imge, np.argmax(preds, axis=1))\n",
        "  #print(preds)"
      ],
      "metadata": {
        "colab": {
          "base_uri": "https://localhost:8080/"
        },
        "id": "3dvOB5TfqygM",
        "outputId": "bd797399-7109-47b4-ac57-1e3332ba34b4"
      },
      "execution_count": 4,
      "outputs": [
        {
          "output_type": "stream",
          "name": "stdout",
          "text": [
            "apple2.png [1]\n",
            "apple.png [1]\n",
            "banana.png [0]\n",
            "banana2.png [0]\n",
            "banana3.png [1]\n",
            "banana7.png [0]\n",
            "banana8.png [0]\n",
            "banana9.png [0]\n",
            "banana10.png [0]\n",
            "banana11.png [0]\n",
            "banana12.png [0]\n",
            "banana13.png [0]\n",
            "banana14.png [0]\n",
            "banana15.png [0]\n",
            "banana16.png [0]\n",
            "banana4.png [1]\n",
            "banana5.png [0]\n",
            "banana6.png [0]\n",
            "apple11.png [1]\n",
            "apple6.png [0]\n",
            "apple13.png [0]\n",
            "apple14.png [1]\n"
          ]
        }
      ]
    },
    {
      "cell_type": "markdown",
      "source": [
        "**Transfer learning for dense layers**"
      ],
      "metadata": {
        "id": "49AcE2EsVE1R"
      }
    },
    {
      "cell_type": "code",
      "source": [
        "# Train model in batches of dataset\n",
        "import os\n",
        "import time\n",
        "import sklearn\n",
        "import numpy as np\n",
        "from keras.preprocessing import image\n",
        "from keras.applications.imagenet_utils import preprocess_input\n",
        "from keras.applications.vgg16 import VGG16\n",
        "from keras.layers import Dense, Activation, Flatten\n",
        "from keras.layers import merge, Input\n",
        "from keras.models import Model\n",
        "from keras.utils import np_utils\n",
        "from sklearn.utils import shuffle\n",
        "from sklearn.model_selection import train_test_split\n",
        "import matplotlib.pyplot as plt\n",
        "import time\n",
        "\n",
        "\n",
        "image_input = Input(shape=(224, 224, 3))\n",
        "\n",
        "model = VGG16(input_tensor = image_input, include_top = True, weights = 'imagenet')\n",
        "model.summary()\n",
        "\n",
        "last_layer = model.get_layer('block5_pool').output\n",
        "x= Flatten(name='flatten')(last_layer)\n",
        "x = Dense(128, activation='relu', name='fc1')(x)\n",
        "x = Dense(128, activation='relu', name='fc2')(x)\n",
        "out = Dense(num_classes, activation='softmax', name='output')(x)\n",
        "custom_dense_model2 = Model(image_input, out)\n",
        "custom_dense_model2.summary()\n",
        "\n",
        "# Train fully connected layers and freeze other layers\n",
        "\n",
        "for layer in custom_dense_model2.layers[:-3]:\n",
        "\tlayer.trainable = False\n",
        "custom_dense_model2.summary()\n",
        "\n",
        "custom_dense_model2.compile(loss='categorical_crossentropy',optimizer='adadelta',metrics=['accuracy'])\n",
        "\n",
        "t=time.time()\n",
        "hist = custom_dense_model2.fit(X_train, y_train, batch_size=32, epochs=12, verbose=1, validation_data=(X_test, y_test))\n",
        "print('Training time: %s' % (time.time() - t))\n",
        "(loss, accuracy) = custom_dense_model2.evaluate(X_test, y_test, batch_size=10, verbose=1)\n",
        "\n",
        "# Save model to drive\n",
        "custom_dense_model2.save('drive/MyDrive/custom_dense_model2.hdf5')\n",
        "\n",
        "print(\"[INFO] loss={:.4f}, accuracy: {:.4f}%\".format(loss,accuracy * 100))\n",
        "\n"
      ],
      "metadata": {
        "colab": {
          "base_uri": "https://localhost:8080/"
        },
        "outputId": "48f5e868-18fb-4c09-c418-20d3a52329c0",
        "id": "lqaYRcXYVE1g"
      },
      "execution_count": null,
      "outputs": [
        {
          "output_type": "stream",
          "name": "stdout",
          "text": [
            "Downloading data from https://storage.googleapis.com/tensorflow/keras-applications/vgg16/vgg16_weights_tf_dim_ordering_tf_kernels.h5\n",
            "553467904/553467096 [==============================] - 6s 0us/step\n",
            "553476096/553467096 [==============================] - 6s 0us/step\n",
            "Model: \"vgg16\"\n",
            "_________________________________________________________________\n",
            " Layer (type)                Output Shape              Param #   \n",
            "=================================================================\n",
            " input_1 (InputLayer)        [(None, 224, 224, 3)]     0         \n",
            "                                                                 \n",
            " block1_conv1 (Conv2D)       (None, 224, 224, 64)      1792      \n",
            "                                                                 \n",
            " block1_conv2 (Conv2D)       (None, 224, 224, 64)      36928     \n",
            "                                                                 \n",
            " block1_pool (MaxPooling2D)  (None, 112, 112, 64)      0         \n",
            "                                                                 \n",
            " block2_conv1 (Conv2D)       (None, 112, 112, 128)     73856     \n",
            "                                                                 \n",
            " block2_conv2 (Conv2D)       (None, 112, 112, 128)     147584    \n",
            "                                                                 \n",
            " block2_pool (MaxPooling2D)  (None, 56, 56, 128)       0         \n",
            "                                                                 \n",
            " block3_conv1 (Conv2D)       (None, 56, 56, 256)       295168    \n",
            "                                                                 \n",
            " block3_conv2 (Conv2D)       (None, 56, 56, 256)       590080    \n",
            "                                                                 \n",
            " block3_conv3 (Conv2D)       (None, 56, 56, 256)       590080    \n",
            "                                                                 \n",
            " block3_pool (MaxPooling2D)  (None, 28, 28, 256)       0         \n",
            "                                                                 \n",
            " block4_conv1 (Conv2D)       (None, 28, 28, 512)       1180160   \n",
            "                                                                 \n",
            " block4_conv2 (Conv2D)       (None, 28, 28, 512)       2359808   \n",
            "                                                                 \n",
            " block4_conv3 (Conv2D)       (None, 28, 28, 512)       2359808   \n",
            "                                                                 \n",
            " block4_pool (MaxPooling2D)  (None, 14, 14, 512)       0         \n",
            "                                                                 \n",
            " block5_conv1 (Conv2D)       (None, 14, 14, 512)       2359808   \n",
            "                                                                 \n",
            " block5_conv2 (Conv2D)       (None, 14, 14, 512)       2359808   \n",
            "                                                                 \n",
            " block5_conv3 (Conv2D)       (None, 14, 14, 512)       2359808   \n",
            "                                                                 \n",
            " block5_pool (MaxPooling2D)  (None, 7, 7, 512)         0         \n",
            "                                                                 \n",
            " flatten (Flatten)           (None, 25088)             0         \n",
            "                                                                 \n",
            " fc1 (Dense)                 (None, 4096)              102764544 \n",
            "                                                                 \n",
            " fc2 (Dense)                 (None, 4096)              16781312  \n",
            "                                                                 \n",
            " predictions (Dense)         (None, 1000)              4097000   \n",
            "                                                                 \n",
            "=================================================================\n",
            "Total params: 138,357,544\n",
            "Trainable params: 138,357,544\n",
            "Non-trainable params: 0\n",
            "_________________________________________________________________\n",
            "Model: \"model\"\n",
            "_________________________________________________________________\n",
            " Layer (type)                Output Shape              Param #   \n",
            "=================================================================\n",
            " input_1 (InputLayer)        [(None, 224, 224, 3)]     0         \n",
            "                                                                 \n",
            " block1_conv1 (Conv2D)       (None, 224, 224, 64)      1792      \n",
            "                                                                 \n",
            " block1_conv2 (Conv2D)       (None, 224, 224, 64)      36928     \n",
            "                                                                 \n",
            " block1_pool (MaxPooling2D)  (None, 112, 112, 64)      0         \n",
            "                                                                 \n",
            " block2_conv1 (Conv2D)       (None, 112, 112, 128)     73856     \n",
            "                                                                 \n",
            " block2_conv2 (Conv2D)       (None, 112, 112, 128)     147584    \n",
            "                                                                 \n",
            " block2_pool (MaxPooling2D)  (None, 56, 56, 128)       0         \n",
            "                                                                 \n",
            " block3_conv1 (Conv2D)       (None, 56, 56, 256)       295168    \n",
            "                                                                 \n",
            " block3_conv2 (Conv2D)       (None, 56, 56, 256)       590080    \n",
            "                                                                 \n",
            " block3_conv3 (Conv2D)       (None, 56, 56, 256)       590080    \n",
            "                                                                 \n",
            " block3_pool (MaxPooling2D)  (None, 28, 28, 256)       0         \n",
            "                                                                 \n",
            " block4_conv1 (Conv2D)       (None, 28, 28, 512)       1180160   \n",
            "                                                                 \n",
            " block4_conv2 (Conv2D)       (None, 28, 28, 512)       2359808   \n",
            "                                                                 \n",
            " block4_conv3 (Conv2D)       (None, 28, 28, 512)       2359808   \n",
            "                                                                 \n",
            " block4_pool (MaxPooling2D)  (None, 14, 14, 512)       0         \n",
            "                                                                 \n",
            " block5_conv1 (Conv2D)       (None, 14, 14, 512)       2359808   \n",
            "                                                                 \n",
            " block5_conv2 (Conv2D)       (None, 14, 14, 512)       2359808   \n",
            "                                                                 \n",
            " block5_conv3 (Conv2D)       (None, 14, 14, 512)       2359808   \n",
            "                                                                 \n",
            " block5_pool (MaxPooling2D)  (None, 7, 7, 512)         0         \n",
            "                                                                 \n",
            " flatten (Flatten)           (None, 25088)             0         \n",
            "                                                                 \n",
            " fc1 (Dense)                 (None, 128)               3211392   \n",
            "                                                                 \n",
            " fc2 (Dense)                 (None, 128)               16512     \n",
            "                                                                 \n",
            " output (Dense)              (None, 2)                 258       \n",
            "                                                                 \n",
            "=================================================================\n",
            "Total params: 17,942,850\n",
            "Trainable params: 17,942,850\n",
            "Non-trainable params: 0\n",
            "_________________________________________________________________\n",
            "Model: \"model\"\n",
            "_________________________________________________________________\n",
            " Layer (type)                Output Shape              Param #   \n",
            "=================================================================\n",
            " input_1 (InputLayer)        [(None, 224, 224, 3)]     0         \n",
            "                                                                 \n",
            " block1_conv1 (Conv2D)       (None, 224, 224, 64)      1792      \n",
            "                                                                 \n",
            " block1_conv2 (Conv2D)       (None, 224, 224, 64)      36928     \n",
            "                                                                 \n",
            " block1_pool (MaxPooling2D)  (None, 112, 112, 64)      0         \n",
            "                                                                 \n",
            " block2_conv1 (Conv2D)       (None, 112, 112, 128)     73856     \n",
            "                                                                 \n",
            " block2_conv2 (Conv2D)       (None, 112, 112, 128)     147584    \n",
            "                                                                 \n",
            " block2_pool (MaxPooling2D)  (None, 56, 56, 128)       0         \n",
            "                                                                 \n",
            " block3_conv1 (Conv2D)       (None, 56, 56, 256)       295168    \n",
            "                                                                 \n",
            " block3_conv2 (Conv2D)       (None, 56, 56, 256)       590080    \n",
            "                                                                 \n",
            " block3_conv3 (Conv2D)       (None, 56, 56, 256)       590080    \n",
            "                                                                 \n",
            " block3_pool (MaxPooling2D)  (None, 28, 28, 256)       0         \n",
            "                                                                 \n",
            " block4_conv1 (Conv2D)       (None, 28, 28, 512)       1180160   \n",
            "                                                                 \n",
            " block4_conv2 (Conv2D)       (None, 28, 28, 512)       2359808   \n",
            "                                                                 \n",
            " block4_conv3 (Conv2D)       (None, 28, 28, 512)       2359808   \n",
            "                                                                 \n",
            " block4_pool (MaxPooling2D)  (None, 14, 14, 512)       0         \n",
            "                                                                 \n",
            " block5_conv1 (Conv2D)       (None, 14, 14, 512)       2359808   \n",
            "                                                                 \n",
            " block5_conv2 (Conv2D)       (None, 14, 14, 512)       2359808   \n",
            "                                                                 \n",
            " block5_conv3 (Conv2D)       (None, 14, 14, 512)       2359808   \n",
            "                                                                 \n",
            " block5_pool (MaxPooling2D)  (None, 7, 7, 512)         0         \n",
            "                                                                 \n",
            " flatten (Flatten)           (None, 25088)             0         \n",
            "                                                                 \n",
            " fc1 (Dense)                 (None, 128)               3211392   \n",
            "                                                                 \n",
            " fc2 (Dense)                 (None, 128)               16512     \n",
            "                                                                 \n",
            " output (Dense)              (None, 2)                 258       \n",
            "                                                                 \n",
            "=================================================================\n",
            "Total params: 17,942,850\n",
            "Trainable params: 3,228,162\n",
            "Non-trainable params: 14,714,688\n",
            "_________________________________________________________________\n",
            "Epoch 1/12\n",
            "48/48 [==============================] - 31s 374ms/step - loss: 2.2579 - accuracy: 0.4935 - val_loss: 1.8656 - val_accuracy: 0.5286\n",
            "Epoch 2/12\n",
            "48/48 [==============================] - 18s 371ms/step - loss: 1.3386 - accuracy: 0.6296 - val_loss: 1.3098 - val_accuracy: 0.6484\n",
            "Epoch 3/12\n",
            "48/48 [==============================] - 18s 368ms/step - loss: 0.9694 - accuracy: 0.7188 - val_loss: 1.0072 - val_accuracy: 0.6979\n",
            "Epoch 4/12\n",
            "48/48 [==============================] - 18s 367ms/step - loss: 0.7518 - accuracy: 0.7689 - val_loss: 0.8053 - val_accuracy: 0.7474\n",
            "Epoch 5/12\n",
            "48/48 [==============================] - 19s 402ms/step - loss: 0.6041 - accuracy: 0.8053 - val_loss: 0.6588 - val_accuracy: 0.7760\n",
            "Epoch 6/12\n",
            "48/48 [==============================] - 19s 402ms/step - loss: 0.4969 - accuracy: 0.8411 - val_loss: 0.5513 - val_accuracy: 0.8021\n",
            "Epoch 7/12\n",
            "48/48 [==============================] - 18s 367ms/step - loss: 0.4141 - accuracy: 0.8652 - val_loss: 0.4682 - val_accuracy: 0.8438\n",
            "Epoch 8/12\n",
            "48/48 [==============================] - 19s 401ms/step - loss: 0.3486 - accuracy: 0.8848 - val_loss: 0.4031 - val_accuracy: 0.8672\n",
            "Epoch 9/12\n",
            "48/48 [==============================] - 17s 365ms/step - loss: 0.2966 - accuracy: 0.8971 - val_loss: 0.3536 - val_accuracy: 0.8932\n",
            "Epoch 10/12\n",
            "48/48 [==============================] - 17s 364ms/step - loss: 0.2545 - accuracy: 0.9102 - val_loss: 0.3133 - val_accuracy: 0.8984\n",
            "Epoch 11/12\n",
            "48/48 [==============================] - 17s 364ms/step - loss: 0.2208 - accuracy: 0.9245 - val_loss: 0.2817 - val_accuracy: 0.9219\n",
            "Epoch 12/12\n",
            "48/48 [==============================] - 19s 400ms/step - loss: 0.1926 - accuracy: 0.9349 - val_loss: 0.2546 - val_accuracy: 0.9297\n",
            "Training time: 231.14742040634155\n",
            "39/39 [==============================] - 9s 171ms/step - loss: 0.2546 - accuracy: 0.9297\n",
            "[INFO] loss=0.2546, accuracy: 92.9688%\n"
          ]
        }
      ]
    },
    {
      "cell_type": "code",
      "source": [
        "# plotting losses and accuracy\n",
        "\n",
        "train_loss=hist.history['loss']\n",
        "val_loss=hist.history['val_loss']\n",
        "train_acc=hist.history['accuracy']\n",
        "val_acc=hist.history['val_accuracy']\n",
        "xc=range(12)\n",
        "\n",
        "plt.figure(1,figsize=(7,5))\n",
        "plt.plot(xc,train_loss)\n",
        "plt.plot(xc,val_loss)\n",
        "plt.xlabel('num of Epochs')\n",
        "plt.ylabel('loss')\n",
        "plt.title('train_loss vs val_loss')\n",
        "plt.grid(True)\n",
        "plt.legend(['train','val'])\n",
        "plt.style.use(['classic'])\n",
        "\n",
        "plt.figure(2,figsize=(7,5))\n",
        "plt.plot(xc,train_acc)\n",
        "plt.plot(xc,val_acc)\n",
        "plt.xlabel('num of Epochs')\n",
        "plt.ylabel('accuracy')\n",
        "plt.title('train_acc vs val_accuracy')\n",
        "plt.grid(True)\n",
        "plt.legend(['train','val'],loc=4)\n",
        "plt.style.use(['classic'])"
      ],
      "metadata": {
        "colab": {
          "base_uri": "https://localhost:8080/",
          "height": 795
        },
        "outputId": "9bd75d4c-759c-4141-d894-0fe09e83655e",
        "id": "eu-aMw00VE1g"
      },
      "execution_count": null,
      "outputs": [
        {
          "output_type": "display_data",
          "data": {
            "text/plain": [
              "<Figure size 560x400 with 1 Axes>"
            ],
            "image/png": "[encoded data removed]"
          },
          "metadata": {}
        },
        {
          "output_type": "display_data",
          "data": {
            "text/plain": [
              "<Figure size 560x400 with 1 Axes>"
            ],
            "image/png": "[encoded data removed]"
          },
          "metadata": {}
        }
      ]
    },
    {
      "cell_type": "code",
      "source": [
        "# Recreate the exact same model, including its weights and the optimizer\n",
        "import tensorflow as tf\n",
        "from tensorflow import keras\n",
        "from keras.models import Model\n",
        "model = tf.keras.models.load_model('drive/MyDrive/custom_dense_model2.hdf5')\n",
        "\n",
        "# Show the model architecture\n",
        "model.summary()"
      ],
      "metadata": {
        "colab": {
          "base_uri": "https://localhost:8080/"
        },
        "outputId": "b5be867e-1142-43e7-b7bd-8489b8c60f05",
        "id": "7jxBvQyVVE1h"
      },
      "execution_count": 5,
      "outputs": [
        {
          "output_type": "stream",
          "name": "stdout",
          "text": [
            "Model: \"model\"\n",
            "_________________________________________________________________\n",
            " Layer (type)                Output Shape              Param #   \n",
            "=================================================================\n",
            " input_1 (InputLayer)        [(None, 224, 224, 3)]     0         \n",
            "                                                                 \n",
            " block1_conv1 (Conv2D)       (None, 224, 224, 64)      1792      \n",
            "                                                                 \n",
            " block1_conv2 (Conv2D)       (None, 224, 224, 64)      36928     \n",
            "                                                                 \n",
            " block1_pool (MaxPooling2D)  (None, 112, 112, 64)      0         \n",
            "                                                                 \n",
            " block2_conv1 (Conv2D)       (None, 112, 112, 128)     73856     \n",
            "                                                                 \n",
            " block2_conv2 (Conv2D)       (None, 112, 112, 128)     147584    \n",
            "                                                                 \n",
            " block2_pool (MaxPooling2D)  (None, 56, 56, 128)       0         \n",
            "                                                                 \n",
            " block3_conv1 (Conv2D)       (None, 56, 56, 256)       295168    \n",
            "                                                                 \n",
            " block3_conv2 (Conv2D)       (None, 56, 56, 256)       590080    \n",
            "                                                                 \n",
            " block3_conv3 (Conv2D)       (None, 56, 56, 256)       590080    \n",
            "                                                                 \n",
            " block3_pool (MaxPooling2D)  (None, 28, 28, 256)       0         \n",
            "                                                                 \n",
            " block4_conv1 (Conv2D)       (None, 28, 28, 512)       1180160   \n",
            "                                                                 \n",
            " block4_conv2 (Conv2D)       (None, 28, 28, 512)       2359808   \n",
            "                                                                 \n",
            " block4_conv3 (Conv2D)       (None, 28, 28, 512)       2359808   \n",
            "                                                                 \n",
            " block4_pool (MaxPooling2D)  (None, 14, 14, 512)       0         \n",
            "                                                                 \n",
            " block5_conv1 (Conv2D)       (None, 14, 14, 512)       2359808   \n",
            "                                                                 \n",
            " block5_conv2 (Conv2D)       (None, 14, 14, 512)       2359808   \n",
            "                                                                 \n",
            " block5_conv3 (Conv2D)       (None, 14, 14, 512)       2359808   \n",
            "                                                                 \n",
            " block5_pool (MaxPooling2D)  (None, 7, 7, 512)         0         \n",
            "                                                                 \n",
            " flatten (Flatten)           (None, 25088)             0         \n",
            "                                                                 \n",
            " fc1 (Dense)                 (None, 128)               3211392   \n",
            "                                                                 \n",
            " fc2 (Dense)                 (None, 128)               16512     \n",
            "                                                                 \n",
            " output (Dense)              (None, 2)                 258       \n",
            "                                                                 \n",
            "=================================================================\n",
            "Total params: 17,942,850\n",
            "Trainable params: 3,228,162\n",
            "Non-trainable params: 14,714,688\n",
            "_________________________________________________________________\n"
          ]
        }
      ]
    },
    {
      "cell_type": "code",
      "source": [
        "# Predict the test images\n",
        "predictions = model.predict(X_test[:10])\n",
        "\n",
        "# Print model predictions\n",
        "print(np.argmax(predictions, axis=1))"
      ],
      "metadata": {
        "colab": {
          "base_uri": "https://localhost:8080/"
        },
        "outputId": "a3da391f-91b3-4997-98ff-a5b514dc9ec7",
        "id": "K6mcce_1VE1h"
      },
      "execution_count": null,
      "outputs": [
        {
          "output_type": "stream",
          "name": "stdout",
          "text": [
            "[0 0 1 0 1 0 1 1 0 1]\n"
          ]
        }
      ]
    },
    {
      "cell_type": "code",
      "source": [
        "# Print corresponding classes\n",
        "print(np.argmax(y_test[:10], axis=1))"
      ],
      "metadata": {
        "colab": {
          "base_uri": "https://localhost:8080/"
        },
        "outputId": "30b8f385-5676-4d56-f0b8-21860551eba8",
        "id": "IxxNGvw1VE1h"
      },
      "execution_count": null,
      "outputs": [
        {
          "output_type": "stream",
          "name": "stdout",
          "text": [
            "[0 0 1 0 1 0 1 1 0 1]\n"
          ]
        }
      ]
    },
    {
      "cell_type": "code",
      "source": [
        "# Testing for new images \n",
        "import numpy as np\n",
        "from keras.preprocessing import image\n",
        "from keras.applications.imagenet_utils import preprocess_input\n",
        "\n",
        "testing_path = '/content/drive/MyDrive/Testing'\n",
        "\n",
        "images = os.listdir(testing_path)\n",
        "for imge in images:\n",
        "  img_path = testing_path +'/' +imge\n",
        "  img = image.load_img(img_path, target_size=(224, 224))\n",
        "  x = image.img_to_array(img)\n",
        "  x = np.expand_dims(x, axis=0)\n",
        "  x = preprocess_input(x)\n",
        "  #print('Input image shape:', x.shape)\n",
        "\n",
        "  preds = model.predict(x)\n",
        "  print(imge, np.argmax(preds, axis=1))\n",
        "  #print(preds)"
      ],
      "metadata": {
        "colab": {
          "base_uri": "https://localhost:8080/"
        },
        "outputId": "928f987f-8be5-4812-aae6-195f688a9827",
        "id": "nn78dVENVE1h"
      },
      "execution_count": 6,
      "outputs": [
        {
          "output_type": "stream",
          "name": "stdout",
          "text": [
            "apple2.png [1]\n",
            "apple.png [1]\n",
            "banana.png [0]\n",
            "banana2.png [0]\n",
            "banana3.png [0]\n",
            "banana7.png [0]\n",
            "banana8.png [0]\n",
            "banana9.png [0]\n",
            "banana10.png [0]\n",
            "banana11.png [0]\n",
            "banana12.png [0]\n",
            "banana13.png [0]\n",
            "banana14.png [0]\n",
            "banana15.png [0]\n",
            "banana16.png [0]\n",
            "banana4.png [0]\n",
            "banana5.png [0]\n",
            "banana6.png [0]\n",
            "apple11.png [0]\n",
            "apple6.png [0]\n",
            "apple13.png [1]\n",
            "apple14.png [0]\n"
          ]
        }
      ]
    },
    {
      "cell_type": "markdown",
      "source": [
        "**Code to train model for all classes**"
      ],
      "metadata": {
        "id": "jCiCKVw7xniw"
      }
    },
    {
      "cell_type": "code",
      "execution_count": null,
      "metadata": {
        "id": "KfVreB7fzkax"
      },
      "outputs": [],
      "source": [
        "# Access the images of dataset \n",
        "\n",
        "import numpy as np\n",
        "from keras.preprocessing import image\n",
        "from keras.applications.imagenet_utils import preprocess_input\n",
        "\n",
        "img_data_list=[]\n",
        "for dir in (os.listdir(path)):\n",
        "  images = os.listdir(os.path.join(path,dir))\n",
        "  for imge in images:\n",
        "    img_path = path+'/'+dir+'/'+imge\n",
        "    img = image.load_img(img_path, target_size=(224, 224))\n",
        "    x = image.img_to_array(img)\n",
        "    x = np.expand_dims(x, axis=0)\n",
        "    x = preprocess_input(x)\n",
        "    img_data_list.append(x)\n",
        "\n",
        "print(len(img_data_list))"
      ]
    },
    {
      "cell_type": "code",
      "execution_count": null,
      "metadata": {
        "id": "FKEqkMEj02US",
        "colab": {
          "base_uri": "https://localhost:8080/"
        },
        "outputId": "8fc94fdc-3a8f-4b0f-c873-f4d384d9cc9f"
      },
      "outputs": [
        {
          "output_type": "stream",
          "name": "stdout",
          "text": [
            "labels list:  ['lion', 'snake', 'cell phone', 'keyboard', 'carrot', 'wineglass', 'elephant', 'door', 'cake', 'knife', 'pineapple', 'squirrel', 'horse', 'sea turtle', 'cow', 'tomato', 'toothbrush', 'microscope', 'fish', 'traffic light', 'frog', 'tire', 'laptop', 'backpack', 'hamburger', 'purse', 'arm', 'ship', 'bicycle', 'pizza', 'axe', 'socks', 'fan', 'octopus', 'banana', 'lightbulb', 'rabbit', 'rooster', 'head-phones', 'scissors', 'flashlight', 'hat', 'brain', 'spoon', 'bell', 'eyeglasses', 'bread', 'monkey', 'spider', 'house', 'kangaroo', 'book', 'mouse (animal)', 'trousers', 'satellite', 'skateboard', 'mug', 'cloud', 'train', 'umbrella', 'bird', 'crane (machine)', 'grapes', 'table', 'frying-pan', 'santa claus', 'parachute', 'parrot', 'airplane', 'skyscraper', 'bowl', 'envelope', 'truck', 't-shirt', 'pen', 'ice-cream-cone', 'telephone', 'ear', 'bear (animal)', 'teddy-bear', 'wine-bottle', 'wrist-watch', 'vase', 'mouth', 'comb', 'loudspeaker', 'snowboard', 'key', 'motorbike', 'tv', 'chair', 'van', 'nose', 'ladder', 'helicopter', 'crocodile', 'streetlight', 'guitar', 'space shuttle', 'bus', 'tiger', 'camel', 'panda', 'camera', 'moon', 'cabinet', 'trumpet', 'zebra', 'owl', 'duck', 'penguin', 'teacup', 'candle', 'giraffe', 'bridge', 'dolphin', 'scorpion', 'alarm clock', 'flying bird', 'flower with stem', 'calculator', 'rifle', 'face', 'cup', 'dog', 'microphone', 'hourglass', 'rollerblades', 'angel', 'radio', 'person walking', 'tractor', 'screwdriver', 'pumpkin', 'bed', 'eye', 'crab', 'car', 'pig', 'snail', 'cactus', 'strawberry', 'basket', 'hand', 'piano', 'sun', 'bench', 'human-skeleton', 'pear', 'fork', 'crown', 'diamond', 'leaf', 'apple', 'helmet', 'tree', 'present', 'butterfly', 'boomerang', 'cat']\n",
            "labels numbers:  [0, 1, 2, 3, 4, 5, 6, 7, 8, 9, 10, 11, 12, 13, 14, 15, 16, 17, 18, 19, 20, 21, 22, 23, 24, 25, 26, 27, 28, 29, 30, 31, 32, 33, 34, 35, 36, 37, 38, 39, 40, 41, 42, 43, 44, 45, 46, 47, 48, 49, 50, 51, 52, 53, 54, 55, 56, 57, 58, 59, 60, 61, 62, 63, 64, 65, 66, 67, 68, 69, 70, 71, 72, 73, 74, 75, 76, 77, 78, 79, 80, 81, 82, 83, 84, 85, 86, 87, 88, 89, 90, 91, 92, 93, 94, 95, 96, 97, 98, 99, 100, 101, 102, 103, 104, 105, 106, 107, 108, 109, 110, 111, 112, 113, 114, 115, 116, 117, 118, 119, 120, 121, 122, 123, 124, 125, 126, 127, 128, 129, 130, 131, 132, 133, 134, 135, 136, 137, 138, 139, 140, 141, 142, 143, 144, 145, 146, 147, 148, 149, 150, 151, 152, 153, 154, 155, 156, 157, 158, 159]\n",
            "{'lion': 0, 'snake': 1, 'cell phone': 2, 'keyboard': 3, 'carrot': 4, 'wineglass': 5, 'elephant': 6, 'door': 7, 'cake': 8, 'knife': 9, 'pineapple': 10, 'squirrel': 11, 'horse': 12, 'sea turtle': 13, 'cow': 14, 'tomato': 15, 'toothbrush': 16, 'microscope': 17, 'fish': 18, 'traffic light': 19, 'frog': 20, 'tire': 21, 'laptop': 22, 'backpack': 23, 'hamburger': 24, 'purse': 25, 'arm': 26, 'ship': 27, 'bicycle': 28, 'pizza': 29, 'axe': 30, 'socks': 31, 'fan': 32, 'octopus': 33, 'banana': 34, 'lightbulb': 35, 'rabbit': 36, 'rooster': 37, 'head-phones': 38, 'scissors': 39, 'flashlight': 40, 'hat': 41, 'brain': 42, 'spoon': 43, 'bell': 44, 'eyeglasses': 45, 'bread': 46, 'monkey': 47, 'spider': 48, 'house': 49, 'kangaroo': 50, 'book': 51, 'mouse (animal)': 52, 'trousers': 53, 'satellite': 54, 'skateboard': 55, 'mug': 56, 'cloud': 57, 'train': 58, 'umbrella': 59, 'bird': 60, 'crane (machine)': 61, 'grapes': 62, 'table': 63, 'frying-pan': 64, 'santa claus': 65, 'parachute': 66, 'parrot': 67, 'airplane': 68, 'skyscraper': 69, 'bowl': 70, 'envelope': 71, 'truck': 72, 't-shirt': 73, 'pen': 74, 'ice-cream-cone': 75, 'telephone': 76, 'ear': 77, 'bear (animal)': 78, 'teddy-bear': 79, 'wine-bottle': 80, 'wrist-watch': 81, 'vase': 82, 'mouth': 83, 'comb': 84, 'loudspeaker': 85, 'snowboard': 86, 'key': 87, 'motorbike': 88, 'tv': 89, 'chair': 90, 'van': 91, 'nose': 92, 'ladder': 93, 'helicopter': 94, 'crocodile': 95, 'streetlight': 96, 'guitar': 97, 'space shuttle': 98, 'bus': 99, 'tiger': 100, 'camel': 101, 'panda': 102, 'camera': 103, 'moon': 104, 'cabinet': 105, 'trumpet': 106, 'zebra': 107, 'owl': 108, 'duck': 109, 'penguin': 110, 'teacup': 111, 'candle': 112, 'giraffe': 113, 'bridge': 114, 'dolphin': 115, 'scorpion': 116, 'alarm clock': 117, 'flying bird': 118, 'flower with stem': 119, 'calculator': 120, 'rifle': 121, 'face': 122, 'cup': 123, 'dog': 124, 'microphone': 125, 'hourglass': 126, 'rollerblades': 127, 'angel': 128, 'radio': 129, 'person walking': 130, 'tractor': 131, 'screwdriver': 132, 'pumpkin': 133, 'bed': 134, 'eye': 135, 'crab': 136, 'car': 137, 'pig': 138, 'snail': 139, 'cactus': 140, 'strawberry': 141, 'basket': 142, 'hand': 143, 'piano': 144, 'sun': 145, 'bench': 146, 'human-skeleton': 147, 'pear': 148, 'fork': 149, 'crown': 150, 'diamond': 151, 'leaf': 152, 'apple': 153, 'helmet': 154, 'tree': 155, 'present': 156, 'butterfly': 157, 'boomerang': 158, 'cat': 159}\n"
          ]
        }
      ],
      "source": [
        "# Create labels to classes of dataset\n",
        "import glob\n",
        "img_data_list = glob.glob('/content/drive/MyDrive/Data/*/*')\n",
        "\n",
        "labels_folders = glob.glob(('/content/drive/MyDrive/Data/*'))\n",
        "\n",
        "labels_list = [i.split(\"/\")[-1] for i in labels_folders]\n",
        "labels_numbers = [labels_list.index(i) for i in labels_list]\n",
        "print(\"labels list: \", labels_list)\n",
        "print(\"labels numbers: \", labels_numbers)\n",
        "\n",
        "labels = {}\n",
        "for index, label in enumerate(labels_list):\n",
        "  labels[label] = labels_numbers[index]\n",
        "\n",
        "print(labels)"
      ]
    },
    {
      "cell_type": "code",
      "execution_count": null,
      "metadata": {
        "id": "F_bJLjEx6br2"
      },
      "outputs": [],
      "source": [
        "# Train model in batches of dataset\n",
        "import os\n",
        "import time\n",
        "import sklearn\n",
        "import numpy as np\n",
        "from keras.preprocessing import image\n",
        "from keras.applications.imagenet_utils import preprocess_input\n",
        "from keras.applications.vgg16 import VGG16\n",
        "from keras.layers import Dense, Activation, Flatten\n",
        "from keras.layers import merge, Input\n",
        "from keras.models import Model\n",
        "from keras.utils import np_utils\n",
        "from sklearn.utils import shuffle\n",
        "from sklearn.model_selection import train_test_split\n",
        "import matplotlib.pyplot as plt\n",
        "import time\n",
        "\n",
        "\n",
        "image_input = Input(shape=(224, 224, 3))\n",
        "\n",
        "model = VGG16(input_tensor = image_input, include_top = True, weights = 'imagenet')\n",
        "model.summary()\n",
        "\n",
        "last_layer = model.get_layer('fc2').output\n",
        "out = Dense(160, activation='softmax', name='output')(last_layer)\n",
        "custom_vgg_model = Model(image_input, out)\n",
        "custom_vgg_model.summary()\n",
        "\n",
        "# Train classifier and freeze other layers\n",
        "\n",
        "for layer in custom_vgg_model2.layers[:-1]:\n",
        "\tlayer.trainable = False\n",
        "custom_vgg_model2.summary()\n",
        "  \n",
        "\n",
        "t = list(zip(img_data_list, labels_numbers))\n",
        "shuffle(t)\n",
        "src_filepaths, labels = zip(*t)\n",
        "\n",
        "m = len(src_filepaths) \n",
        "batch_size = 1280\n",
        "\n",
        "for i in range(60):\n",
        "  print(i)\n",
        "  start_pos = i * batch_size\n",
        "  end_pos = min(start_pos + batch_size, m)\n",
        "  src_filepaths_batch = img_data_list[start_pos: end_pos]\n",
        "  labels_batch = labels[start_pos: end_pos]\n",
        "  \n",
        "  imgs = []\n",
        "  for img_path in src_filepaths_batch:\n",
        "    img = image.load_img(img_path, target_size=(224, 224))\n",
        "    x = image.img_to_array(img)\n",
        "    x = np.expand_dims(x, axis=0)\n",
        "    x = preprocess_input(x)\n",
        "    imgs.append(x)\n",
        "\n",
        "  X = np.array(imgs)\n",
        "  print (X.shape)\n",
        "  X=np.rollaxis(X,1,0)\n",
        "  print (X.shape)\n",
        "  X=X[0]\n",
        "  print (X.shape)\n",
        "  \n",
        "  Y = np_utils.to_categorical(labels_batch, 160)\n",
        "  \n",
        "  X_train, X_test, y_train, y_test = train_test_split(X, Y, test_size=0.2, random_state=2)\n",
        "  custom_vgg_model.compile(loss='categorical_crossentropy',optimizer='adadelta',metrics=['accuracy'])\n",
        "  t=time.time()\n",
        "  hist = custom_vgg_model.fit(X_train, y_train, batch_size=32, epochs=12, verbose=1, validation_data=(X_test, y_test))\n",
        "  print('Training time: %s' % (time.time() - t))\n",
        "  (loss, accuracy) = custom_vgg_model.evaluate(X_test, y_test, batch_size=10, verbose=1)\n",
        "\n",
        "  print(\"[INFO] loss={:.4f}, accuracy: {:.4f}%\".format(loss,accuracy * 100))\n",
        "\n",
        "\n",
        "# Save model to drive\n",
        "custom_vgg_model.save('model.hdf5')"
      ]
    },
    {
      "cell_type": "markdown",
      "source": [
        "**Training for 4 classes**"
      ],
      "metadata": {
        "id": "G9Xuu4ftzP6A"
      }
    },
    {
      "cell_type": "code",
      "source": [
        "# Access only the apple, banana, grapes, strawberry images of dataset \n",
        "\n",
        "import numpy as np\n",
        "from keras.preprocessing import image\n",
        "from keras.applications.imagenet_utils import preprocess_input\n",
        "\n",
        "images_list=[]\n",
        "for dir in (os.listdir(path)):\n",
        "  if dir in ['apple', 'banana', 'grapes', 'strawberry']:\n",
        "    print(dir)\n",
        "    images = os.listdir(os.path.join(path,dir))\n",
        "    for imge in images:\n",
        "      img_path = path+'/'+dir+'/'+imge\n",
        "      img = image.load_img(img_path, target_size=(224, 224))\n",
        "      x = image.img_to_array(img)\n",
        "      x = np.expand_dims(x, axis=0)\n",
        "      x = preprocess_input(x)\n",
        "      images_list.append(x)\n",
        "\n",
        "print(len(images_list))"
      ],
      "metadata": {
        "id": "6mXFYXGxzZSB",
        "colab": {
          "base_uri": "https://localhost:8080/"
        },
        "outputId": "fd144ebd-264e-4ce7-fc57-35d4a1875bc0"
      },
      "execution_count": null,
      "outputs": [
        {
          "output_type": "stream",
          "name": "stdout",
          "text": [
            "banana\n",
            "grapes\n",
            "strawberry\n",
            "apple\n",
            "3840\n"
          ]
        }
      ]
    },
    {
      "cell_type": "code",
      "source": [
        "img_data = np.array(images_list)\n",
        "print (img_data.shape)\n",
        "img_data=np.rollaxis(img_data,1,0)\n",
        "print (img_data.shape)\n",
        "img_data=img_data[0]\n",
        "print (img_data.shape)"
      ],
      "metadata": {
        "colab": {
          "base_uri": "https://localhost:8080/"
        },
        "id": "6r7Ee6Qw0_rO",
        "outputId": "8cd3974c-1d44-4a2b-85b7-3e0b90dc7b95"
      },
      "execution_count": null,
      "outputs": [
        {
          "output_type": "stream",
          "name": "stdout",
          "text": [
            "(3840, 1, 224, 224, 3)\n",
            "(1, 3840, 224, 224, 3)\n",
            "(3840, 224, 224, 3)\n"
          ]
        }
      ]
    },
    {
      "cell_type": "code",
      "source": [
        "# Define number of classes\n",
        "\n",
        "from keras.utils import np_utils\n",
        "from sklearn.utils import shuffle\n",
        "from sklearn.model_selection import train_test_split\n",
        "\n",
        "num_classes = 4\n",
        "num_of_samples = img_data.shape[0]\n",
        "labels = np.ones((num_of_samples,),dtype='int64')\n",
        "\n",
        "labels[0:960]=0\n",
        "labels[960:1920]=1\n",
        "labels[1920:2880]=2\n",
        "labels[2880:3840]=3\n",
        "names = ['banana','grapes', 'strawberry', 'apple']\n",
        "\n",
        "# convert class labels to one-hot encoding\n",
        "Y = np_utils.to_categorical(labels, num_classes)\n",
        "\n",
        "#Shuffle the dataset\n",
        "x,y = shuffle(img_data,Y, random_state=2)\n",
        "\n",
        "# Split the dataset\n",
        "X_train, X_test, y_train, y_test = train_test_split(x, y, test_size=0.2, random_state=2)\n",
        "print(X_train.shape)\n",
        "print(y_train.shape)"
      ],
      "metadata": {
        "colab": {
          "base_uri": "https://localhost:8080/"
        },
        "id": "ZouqZSy_1FGV",
        "outputId": "80a11fbc-ffa2-4290-a715-149c1c9a4912"
      },
      "execution_count": null,
      "outputs": [
        {
          "output_type": "stream",
          "name": "stdout",
          "text": [
            "(3072, 224, 224, 3)\n",
            "(3072, 4)\n"
          ]
        }
      ]
    },
    {
      "cell_type": "code",
      "source": [
        "# Train model in batches of dataset\n",
        "import os\n",
        "import time\n",
        "import sklearn\n",
        "import numpy as np\n",
        "from keras.preprocessing import image\n",
        "from keras.applications.imagenet_utils import preprocess_input\n",
        "from keras.applications.vgg16 import VGG16\n",
        "from keras.layers import Dense, Activation, Flatten\n",
        "from keras.layers import merge, Input\n",
        "from keras.models import Model\n",
        "from keras.utils import np_utils\n",
        "from sklearn.utils import shuffle\n",
        "from sklearn.model_selection import train_test_split\n",
        "import matplotlib.pyplot as plt\n",
        "import time\n",
        "\n",
        "\n",
        "image_input = Input(shape=(224, 224, 3))\n",
        "\n",
        "model = VGG16(input_tensor = image_input, include_top = True, weights = 'imagenet')\n",
        "model.summary()\n",
        "\n",
        "last_layer = model.get_layer('fc2').output\n",
        "out = Dense(num_classes, activation='softmax', name='output')(last_layer)\n",
        "custom_vgg_model4 = Model(image_input, out)\n",
        "custom_vgg_model4.summary()\n",
        "\n",
        "# Train classifier and freeze other layers\n",
        "\n",
        "for layer in custom_vgg_model4.layers[:-1]:\n",
        "\tlayer.trainable = False\n",
        "custom_vgg_model4.summary()\n",
        "custom_vgg_model4.layers[3].trainable\n",
        "\n",
        "custom_vgg_model4.compile(loss='categorical_crossentropy',optimizer='adadelta',metrics=['accuracy'])\n",
        "\n",
        "t=time.time()\n",
        "hist = custom_vgg_model4.fit(X_train, y_train, batch_size=32, epochs=12, verbose=1, validation_data=(X_test, y_test))\n",
        "print('Training time: %s' % (time.time() - t))\n",
        "(loss, accuracy) = custom_vgg_model4.evaluate(X_test, y_test, batch_size=10, verbose=1)\n",
        "\n",
        "# Save model to drive\n",
        "custom_vgg_model4.save('drive/MyDrive/custom_vgg_model4.hdf5')\n",
        "\n",
        "print(\"[INFO] loss={:.4f}, accuracy: {:.4f}%\".format(loss,accuracy * 100))\n"
      ],
      "metadata": {
        "colab": {
          "base_uri": "https://localhost:8080/"
        },
        "outputId": "1abba320-de75-47d3-9af0-1e8b0eade5e8",
        "id": "6DUQd8PSHuC1"
      },
      "execution_count": null,
      "outputs": [
        {
          "output_type": "stream",
          "name": "stdout",
          "text": [
            "Downloading data from https://storage.googleapis.com/tensorflow/keras-applications/vgg16/vgg16_weights_tf_dim_ordering_tf_kernels.h5\n",
            "553467904/553467096 [==============================] - 7s 0us/step\n",
            "553476096/553467096 [==============================] - 7s 0us/step\n",
            "Model: \"vgg16\"\n",
            "_________________________________________________________________\n",
            " Layer (type)                Output Shape              Param #   \n",
            "=================================================================\n",
            " input_1 (InputLayer)        [(None, 224, 224, 3)]     0         \n",
            "                                                                 \n",
            " block1_conv1 (Conv2D)       (None, 224, 224, 64)      1792      \n",
            "                                                                 \n",
            " block1_conv2 (Conv2D)       (None, 224, 224, 64)      36928     \n",
            "                                                                 \n",
            " block1_pool (MaxPooling2D)  (None, 112, 112, 64)      0         \n",
            "                                                                 \n",
            " block2_conv1 (Conv2D)       (None, 112, 112, 128)     73856     \n",
            "                                                                 \n",
            " block2_conv2 (Conv2D)       (None, 112, 112, 128)     147584    \n",
            "                                                                 \n",
            " block2_pool (MaxPooling2D)  (None, 56, 56, 128)       0         \n",
            "                                                                 \n",
            " block3_conv1 (Conv2D)       (None, 56, 56, 256)       295168    \n",
            "                                                                 \n",
            " block3_conv2 (Conv2D)       (None, 56, 56, 256)       590080    \n",
            "                                                                 \n",
            " block3_conv3 (Conv2D)       (None, 56, 56, 256)       590080    \n",
            "                                                                 \n",
            " block3_pool (MaxPooling2D)  (None, 28, 28, 256)       0         \n",
            "                                                                 \n",
            " block4_conv1 (Conv2D)       (None, 28, 28, 512)       1180160   \n",
            "                                                                 \n",
            " block4_conv2 (Conv2D)       (None, 28, 28, 512)       2359808   \n",
            "                                                                 \n",
            " block4_conv3 (Conv2D)       (None, 28, 28, 512)       2359808   \n",
            "                                                                 \n",
            " block4_pool (MaxPooling2D)  (None, 14, 14, 512)       0         \n",
            "                                                                 \n",
            " block5_conv1 (Conv2D)       (None, 14, 14, 512)       2359808   \n",
            "                                                                 \n",
            " block5_conv2 (Conv2D)       (None, 14, 14, 512)       2359808   \n",
            "                                                                 \n",
            " block5_conv3 (Conv2D)       (None, 14, 14, 512)       2359808   \n",
            "                                                                 \n",
            " block5_pool (MaxPooling2D)  (None, 7, 7, 512)         0         \n",
            "                                                                 \n",
            " flatten (Flatten)           (None, 25088)             0         \n",
            "                                                                 \n",
            " fc1 (Dense)                 (None, 4096)              102764544 \n",
            "                                                                 \n",
            " fc2 (Dense)                 (None, 4096)              16781312  \n",
            "                                                                 \n",
            " predictions (Dense)         (None, 1000)              4097000   \n",
            "                                                                 \n",
            "=================================================================\n",
            "Total params: 138,357,544\n",
            "Trainable params: 138,357,544\n",
            "Non-trainable params: 0\n",
            "_________________________________________________________________\n",
            "Model: \"model\"\n",
            "_________________________________________________________________\n",
            " Layer (type)                Output Shape              Param #   \n",
            "=================================================================\n",
            " input_1 (InputLayer)        [(None, 224, 224, 3)]     0         \n",
            "                                                                 \n",
            " block1_conv1 (Conv2D)       (None, 224, 224, 64)      1792      \n",
            "                                                                 \n",
            " block1_conv2 (Conv2D)       (None, 224, 224, 64)      36928     \n",
            "                                                                 \n",
            " block1_pool (MaxPooling2D)  (None, 112, 112, 64)      0         \n",
            "                                                                 \n",
            " block2_conv1 (Conv2D)       (None, 112, 112, 128)     73856     \n",
            "                                                                 \n",
            " block2_conv2 (Conv2D)       (None, 112, 112, 128)     147584    \n",
            "                                                                 \n",
            " block2_pool (MaxPooling2D)  (None, 56, 56, 128)       0         \n",
            "                                                                 \n",
            " block3_conv1 (Conv2D)       (None, 56, 56, 256)       295168    \n",
            "                                                                 \n",
            " block3_conv2 (Conv2D)       (None, 56, 56, 256)       590080    \n",
            "                                                                 \n",
            " block3_conv3 (Conv2D)       (None, 56, 56, 256)       590080    \n",
            "                                                                 \n",
            " block3_pool (MaxPooling2D)  (None, 28, 28, 256)       0         \n",
            "                                                                 \n",
            " block4_conv1 (Conv2D)       (None, 28, 28, 512)       1180160   \n",
            "                                                                 \n",
            " block4_conv2 (Conv2D)       (None, 28, 28, 512)       2359808   \n",
            "                                                                 \n",
            " block4_conv3 (Conv2D)       (None, 28, 28, 512)       2359808   \n",
            "                                                                 \n",
            " block4_pool (MaxPooling2D)  (None, 14, 14, 512)       0         \n",
            "                                                                 \n",
            " block5_conv1 (Conv2D)       (None, 14, 14, 512)       2359808   \n",
            "                                                                 \n",
            " block5_conv2 (Conv2D)       (None, 14, 14, 512)       2359808   \n",
            "                                                                 \n",
            " block5_conv3 (Conv2D)       (None, 14, 14, 512)       2359808   \n",
            "                                                                 \n",
            " block5_pool (MaxPooling2D)  (None, 7, 7, 512)         0         \n",
            "                                                                 \n",
            " flatten (Flatten)           (None, 25088)             0         \n",
            "                                                                 \n",
            " fc1 (Dense)                 (None, 4096)              102764544 \n",
            "                                                                 \n",
            " fc2 (Dense)                 (None, 4096)              16781312  \n",
            "                                                                 \n",
            " output (Dense)              (None, 4)                 16388     \n",
            "                                                                 \n",
            "=================================================================\n",
            "Total params: 134,276,932\n",
            "Trainable params: 134,276,932\n",
            "Non-trainable params: 0\n",
            "_________________________________________________________________\n",
            "Model: \"model\"\n",
            "_________________________________________________________________\n",
            " Layer (type)                Output Shape              Param #   \n",
            "=================================================================\n",
            " input_1 (InputLayer)        [(None, 224, 224, 3)]     0         \n",
            "                                                                 \n",
            " block1_conv1 (Conv2D)       (None, 224, 224, 64)      1792      \n",
            "                                                                 \n",
            " block1_conv2 (Conv2D)       (None, 224, 224, 64)      36928     \n",
            "                                                                 \n",
            " block1_pool (MaxPooling2D)  (None, 112, 112, 64)      0         \n",
            "                                                                 \n",
            " block2_conv1 (Conv2D)       (None, 112, 112, 128)     73856     \n",
            "                                                                 \n",
            " block2_conv2 (Conv2D)       (None, 112, 112, 128)     147584    \n",
            "                                                                 \n",
            " block2_pool (MaxPooling2D)  (None, 56, 56, 128)       0         \n",
            "                                                                 \n",
            " block3_conv1 (Conv2D)       (None, 56, 56, 256)       295168    \n",
            "                                                                 \n",
            " block3_conv2 (Conv2D)       (None, 56, 56, 256)       590080    \n",
            "                                                                 \n",
            " block3_conv3 (Conv2D)       (None, 56, 56, 256)       590080    \n",
            "                                                                 \n",
            " block3_pool (MaxPooling2D)  (None, 28, 28, 256)       0         \n",
            "                                                                 \n",
            " block4_conv1 (Conv2D)       (None, 28, 28, 512)       1180160   \n",
            "                                                                 \n",
            " block4_conv2 (Conv2D)       (None, 28, 28, 512)       2359808   \n",
            "                                                                 \n",
            " block4_conv3 (Conv2D)       (None, 28, 28, 512)       2359808   \n",
            "                                                                 \n",
            " block4_pool (MaxPooling2D)  (None, 14, 14, 512)       0         \n",
            "                                                                 \n",
            " block5_conv1 (Conv2D)       (None, 14, 14, 512)       2359808   \n",
            "                                                                 \n",
            " block5_conv2 (Conv2D)       (None, 14, 14, 512)       2359808   \n",
            "                                                                 \n",
            " block5_conv3 (Conv2D)       (None, 14, 14, 512)       2359808   \n",
            "                                                                 \n",
            " block5_pool (MaxPooling2D)  (None, 7, 7, 512)         0         \n",
            "                                                                 \n",
            " flatten (Flatten)           (None, 25088)             0         \n",
            "                                                                 \n",
            " fc1 (Dense)                 (None, 4096)              102764544 \n",
            "                                                                 \n",
            " fc2 (Dense)                 (None, 4096)              16781312  \n",
            "                                                                 \n",
            " output (Dense)              (None, 4)                 16388     \n",
            "                                                                 \n",
            "=================================================================\n",
            "Total params: 134,276,932\n",
            "Trainable params: 16,388\n",
            "Non-trainable params: 134,260,544\n",
            "_________________________________________________________________\n",
            "Epoch 1/12\n",
            "96/96 [==============================] - 1993s 21s/step - loss: 1.2137 - accuracy: 0.4421 - val_loss: 1.1313 - val_accuracy: 0.5026\n",
            "Epoch 2/12\n",
            "96/96 [==============================] - ETA: 0s - loss: 1.1294 - accuracy: 0.4857 "
          ]
        }
      ]
    },
    {
      "cell_type": "code",
      "source": [
        "# plotting losses and accuracy\n",
        "\n",
        "train_loss=hist.history['loss']\n",
        "val_loss=hist.history['val_loss']\n",
        "train_acc=hist.history['accuracy']\n",
        "val_acc=hist.history['val_accuracy']\n",
        "xc=range(12)\n",
        "\n",
        "plt.figure(1,figsize=(7,5))\n",
        "plt.plot(xc,train_loss)\n",
        "plt.plot(xc,val_loss)\n",
        "plt.xlabel('num of Epochs')\n",
        "plt.ylabel('loss')\n",
        "plt.title('train_loss vs val_loss')\n",
        "plt.grid(True)\n",
        "plt.legend(['train','val'])\n",
        "plt.style.use(['classic'])\n",
        "\n",
        "plt.figure(2,figsize=(7,5))\n",
        "plt.plot(xc,train_acc)\n",
        "plt.plot(xc,val_acc)\n",
        "plt.xlabel('num of Epochs')\n",
        "plt.ylabel('accuracy')\n",
        "plt.title('train_acc vs val_accuracy')\n",
        "plt.grid(True)\n",
        "plt.legend(['train','val'],loc=4)\n",
        "plt.style.use(['classic'])"
      ],
      "metadata": {
        "id": "9uXjbnKB1twT"
      },
      "execution_count": null,
      "outputs": []
    },
    {
      "cell_type": "code",
      "source": [
        "# Predict the test images\n",
        "predictions = new_model.predict(X_test[:10])\n",
        "\n",
        "#Print model predictions\n",
        "print(np.argmax(predictions, axis=1))\n",
        "\n",
        "#Print corresponding labels\n",
        "print(np.argmax(y_test[:10], axis=1))"
      ],
      "metadata": {
        "id": "wlIhGgam1z1m"
      },
      "execution_count": null,
      "outputs": []
    },
    {
      "cell_type": "code",
      "source": [
        "# Testing for new images \n",
        "import numpy as np\n",
        "from keras.preprocessing import image\n",
        "from keras.applications.imagenet_utils import preprocess_input\n",
        "\n",
        "testing_path = '/content/drive/MyDrive/Testing'\n",
        "\n",
        "images = os.listdir(testing_path)\n",
        "for imge in images:\n",
        "  img_path = testing_path +'/' +imge\n",
        "  img = image.load_img(img_path, target_size=(224, 224))\n",
        "  x = image.img_to_array(img)\n",
        "  x = np.expand_dims(x, axis=0)\n",
        "  x = preprocess_input(x)\n",
        "  \n",
        "  preds = new_model.predict(x)\n",
        "  print(imge, np.argmax(preds, axis=1))"
      ],
      "metadata": {
        "id": "KnIhVSd-18wc"
      },
      "execution_count": null,
      "outputs": []
    }
  ],
  "metadata": {
    "accelerator": "GPU",
    "colab": {
      "collapsed_sections": [],
      "name": "Free_hand_Sketch_recognition.ipynb",
      "provenance": []
    },
    "kernelspec": {
      "display_name": "Python 3",
      "name": "python3"
    },
    "language_info": {
      "name": "python"
    }
  },
  "nbformat": 4,
  "nbformat_minor": 0
}